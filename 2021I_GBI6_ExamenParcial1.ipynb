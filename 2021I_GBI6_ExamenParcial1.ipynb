{
 "cells": [
  {
   "cell_type": "markdown",
   "metadata": {},
   "source": [
    "<img src=\"https://www.ikiam.edu.ec/img/logo-ikiam-grey.png\" width=300 height=240 />\n",
    "\n",
    "# EXAMEN PARCIAL 1\n",
    "\n",
    "## GBI6-2021II: BIOINFORMÁTICA\n",
    "\n",
    "**Silva Moreta,Mariana Elizabeth** <--- CAMBIE POR LOS QUE CORRESPONDA A SUS DATOS\n",
    "\n",
    "**11-01-2022**"
   ]
  },
  {
   "cell_type": "markdown",
   "metadata": {},
   "source": [
    "<font color='red'>NO AGREGUE NUEVAS CELDAS, UTILICE ÚNICAMENTE LAS QUE ESTÁN CREADAS</font>"
   ]
  },
  {
   "cell_type": "markdown",
   "metadata": {},
   "source": [
    "# 1. UNIX\n",
    "\n",
    "## Ejercicio 1\n",
    "### Para esta pregunta debe realizar previamente lo siguiente:\n",
    " - Imprimir el directorio de trabajo actual \n",
    " - Crear un directorio test1\n",
    " - No cambie de directorio, pero los items 4, 5 y 6 deben guardarse en el directorio creado en el paso 2.  \n",
    " - Crear el archivo test1.txt\n",
    " - Guardar el texto Hola GBI6 en un archivo test2.txt\n",
    " - Guardar la instrucción print(\"Hola GBI6\")  en el archivo test1.py\n",
    " - Luego seleccione la instrucción que imprima el número de elementos del directorio test1\n",
    "\n",
    "\n",
    "<img src=\"./Pregunta1.jpg\" width=600 height=450 />\n",
    "\n",
    " ls enlista los directorios y archivos, que en este caso sería el directorio test1 y  junto con el wc que enlista el numero de elementos\n",
    "\n",
    "\n",
    "## Ejercicio 2\n",
    "### Para esta pregunta debe realizar previamente lo siguiente:\n",
    "- Imprimir el directorio de trabajo actual\n",
    "- Crear un directorio test1\n",
    "- No cambie de directorio, pero los items 4, 5 y 6 deben guardarse en el directorio creado en el paso 2. \n",
    "- Crear el archivo test1.txt\n",
    "- Guardar el texto Hola GBI6 en un archivo test2.txt\n",
    "- Guardar la instrucción print(\"Hola GBI6\")  en el archivo test1.py\n",
    "- Luego seleccione la instrucción que permite enlistar el contenido (sin detalles) del directorio test1\n",
    "\n",
    "\n",
    "<img src=\"./Pregunta2.jpg\" width=600 height=450 />\n",
    "\n",
    "ls enlista los directorios y archivos\n",
    "\n",
    "## Ejercicio 3\n",
    "### Seleccione la opción de código que imprime el directorio de trabajo actual\n",
    "\n",
    "<img src=\"./Pregunta3.jpg\" width=600 height=450 />\n",
    "\n",
    "El pwd nos permite imprimir el directorio actual \n",
    "\n",
    "## Ejercicio 4\n",
    "Escriba aquí el enunciado\n"
   ]
  },
  {
   "cell_type": "code",
   "execution_count": 1,
   "metadata": {},
   "outputs": [
    {
     "name": "stderr",
     "output_type": "stream",
     "text": [
      "C:\\ProgramData\\Anaconda3\\lib\\site-packages\\IPython\\core\\display.py:717: UserWarning: Consider using IPython.display.IFrame instead\n",
      "  warnings.warn(\"Consider using IPython.display.IFrame instead\")\n"
     ]
    },
    {
     "data": {
      "text/html": [
       "<iframe width=\"560\" height=\"315\" src=\"https://www.youtube.com/embed/9ck5iEP03g4\" title=\"YouTube video player\" frameborder=\"0\" allow=\"accelerometer; autoplay; clipboard-write; encrypted-media; gyroscope; picture-in-picture\" allowfullscreen></iframe>"
      ],
      "text/plain": [
       "<IPython.core.display.HTML object>"
      ]
     },
     "execution_count": 1,
     "metadata": {},
     "output_type": "execute_result"
    }
   ],
   "source": [
    "# Coloque aquí su video del ejercicio 4\n",
    "from IPython.display import HTML\n",
    "HTML('<iframe width=\"560\" height=\"315\" src=\"https://www.youtube.com/embed/9ck5iEP03g4\" title=\"YouTube video player\" frameborder=\"0\" allow=\"accelerometer; autoplay; clipboard-write; encrypted-media; gyroscope; picture-in-picture\" allowfullscreen></iframe>')\n"
   ]
  },
  {
   "cell_type": "markdown",
   "metadata": {},
   "source": [
    "Escriba aquí alguna explicación del ejercicio 4 si lo considera necesario (borre esta línea cuando finalice)\n",
    "\n",
    "## Ejercicio 5\n",
    "### Resuelva el ejercicio 1.10.4 Data Explorer. \n",
    " - Resuelva el ejercicio en un documento de nombre ejercicio_1104.sh\n",
    " - Cargue el documento ejercicio_1104.sh en GitHub utilizando git push.\n",
    " - Realice el video explicativo de la resolución ejercicio y guarde en YouTube en formato \"Público\" o \"Unlisted\", y pegue el enlace en el cuaderno de Jupyter."
   ]
  },
  {
   "cell_type": "code",
   "execution_count": 2,
   "metadata": {},
   "outputs": [
    {
     "data": {
      "text/html": [
       "<iframe width=\"560\" height=\"315\" src=\"https://www.youtube.com/embed/3XlZWpLwvvo\" title=\"YouTube video player\" frameborder=\"0\" allow=\"accelerometer; autoplay; clipboard-write; encrypted-media; gyroscope; picture-in-picture\" allowfullscreen></iframe>"
      ],
      "text/plain": [
       "<IPython.core.display.HTML object>"
      ]
     },
     "execution_count": 2,
     "metadata": {},
     "output_type": "execute_result"
    }
   ],
   "source": [
    "# Coloque aquí su video del ejercicio 5\n",
    "from IPython.display import HTML\n",
    "HTML('<iframe width=\"560\" height=\"315\" src=\"https://www.youtube.com/embed/3XlZWpLwvvo\" title=\"YouTube video player\" frameborder=\"0\" allow=\"accelerometer; autoplay; clipboard-write; encrypted-media; gyroscope; picture-in-picture\" allowfullscreen></iframe>')\n"
   ]
  },
  {
   "cell_type": "markdown",
   "metadata": {
    "jp-MarkdownHeadingCollapsed": true,
    "tags": []
   },
   "source": [
    "Escriba aquí alguna explicación del ejercicio 5 si lo considera necesario (borre esta línea cuando finalice)\n",
    "\n",
    "# 2. CONTROL DE LA VERSIÓN\n",
    "## Pregunta 6\n",
    "1. Cree en GitHub un repositorio de nombre ```GBI6_ExamenParcial1```. \n",
    "2. Cree un archivo ```Readme.md``` que debe tener lo siguiente: \n",
    "- Datos personales\n",
    "- Características del computador\n",
    "- Programas utilizados\n",
    "- Explicación de la data utilizada\n",
    "\n",
    "\n",
    "## Pregunta 7\n",
    "1. Cada vez que resuelva un ejercicio (del 1 al 10), utilizando Git Bash, GitHub Desktop o Atom realice un *git push* con el mensaje: \n",
    "\n",
    "\n",
    "<font color='red'>Apellido Nombre ha resuelto el ejercicio 1</font> % Cambie con sus apellidos y nombres; y con el número de ejercicio que corresponda \n",
    "\n",
    "2. Coloque aquí las capturas de pantalla para cada git push realizado desde Git Bash, GitHub Desktop o Atom. \n",
    "\n",
    "- Control de versión ejercicio 1\n",
    "\n",
    "<img src=\"./control1.jpg\" width=600 height=450 />\n",
    "\n",
    "- Control de versión ejercicio 2\n",
    "\n",
    "<img src=\"./control2.jpg\" width=600 height=450 />\n",
    "\n",
    "- Control de versión ejercicio 3\n",
    "\n",
    "<img src=\"./control3.jpg\" width=600 height=450 />\n",
    "\n",
    "- Control de versión ejercicio 4\n",
    "\n",
    "<img src=\"data/ejemplo_unix.jpg\" width=600 height=450 />\n",
    "\n",
    "- Control de versión ejercicio 5\n",
    "\n",
    "<img src=\"./control5.jpg\" width=600 height=450 />\n",
    "\n",
    "- Control de versión ejercicio 8\n",
    "\n",
    "<img src=\"data/ejemplo_unix.jpg\" width=600 height=450 />\n",
    "\n",
    "- Control de versión ejercicio 9\n",
    "\n",
    "<img src=\"data/ejemplo_unix.jpg\" width=600 height=450 />\n",
    "\n",
    "- Control de versión ejercicio 10\n",
    "\n",
    "<img src=\"./control8.jpg\" width=600 height=450 />\n",
    "\n",
    "\n",
    "3. Cree un directorio de nombre ```data``` donde deben estar guardados: (i) la data utilizada y (ii) las capturas de pantalla de los ejercicios 1 al 3 y los git push del ejercicio 1 al 10 (en total debe tener 13 imágenes). \n",
    "4. Inserte aquí el enlace de su repositorio (válido para el ejercicio 6 y 7): [GitHub Repository: GBI6_ExamenParcial1](https://github.com/gualapuromoises/2021_gbi6.git) (este enlace es de ejemplo)"
   ]
  },
  {
   "cell_type": "markdown",
   "metadata": {},
   "source": [
    "# 3. INTRODUCCIÓN A PYTHON\n",
    "\n",
    "## Ejercicio 8\n",
    "### Para este ejercicio tiene que crear previamente lo siguiente: \n",
    "- Una lista de nombre lista1 que tenga a las 10 primeras letras del alfabeto.\n",
    "\n",
    "\n",
    " "
   ]
  },
  {
   "cell_type": "code",
   "execution_count": null,
   "metadata": {},
   "outputs": [],
   "source": [
    " lista1 = [\"a\",\"b\",\"c\",\"d\",\"e\",\"f\",\"g\",\"h\",\"i\",\"j\"]\n",
    ">>> print(lista1[2:5])\n",
    "['c', 'd', 'e']\n",
    ">>> print(lista1[3])\n",
    "d\n",
    ">>> lista1.append([\"gib6\",\"bio1\",\"ikiam\"])\n",
    ">>> print(lista1[-1][-1])\n",
    "ikiam\n",
    ">>> len(lista1)\n",
    "11"
   ]
  },
  {
   "cell_type": "markdown",
   "metadata": {},
   "source": [
    "## Ejercicio 9\n",
    "\n",
    "Escriba aquí el enunciado"
   ]
  },
  {
   "cell_type": "code",
   "execution_count": null,
   "metadata": {},
   "outputs": [],
   "source": [
    "# Escriba aquí el código\n"
   ]
  },
  {
   "cell_type": "markdown",
   "metadata": {},
   "source": [
    "## Ejercicio 10\n",
    "\n",
    "### Para este ejercicio debe debe realizar lo siguiente:\n",
    "- Crear un diccionario de nombre dic_aminoacidos, donde se tenga la información de la tabla que se encuentra en http://www.russelllab.org/aas/aas.html.\n",
    "- Utilice como \"key\" los valores de la columna \"AA\" y las columnas \"Hits\" y \"%Abundance\" como \"values\".\n",
    "- Luego de crear el diccionario, extraiga los valores de \"key\" a una lista de nombre \"aminoacidos\"\n",
    "- Extraiga los valores de \"value\" a una lista de nombre \"propiedades\"\n",
    "- Para evaluar esta pregunta realice un git push del Jupyter Notebook al repositorio del examen."
   ]
  },
  {
   "cell_type": "code",
   "execution_count": 4,
   "metadata": {},
   "outputs": [
    {
     "ename": "IndentationError",
     "evalue": "unexpected indent (<ipython-input-4-f3c9865948d4>, line 2)",
     "output_type": "error",
     "traceback": [
      "\u001b[1;36m  File \u001b[1;32m\"<ipython-input-4-f3c9865948d4>\"\u001b[1;36m, line \u001b[1;32m2\u001b[0m\n\u001b[1;33m    \"Trp\": [1550, 1.34, ],\u001b[0m\n\u001b[1;37m    ^\u001b[0m\n\u001b[1;31mIndentationError\u001b[0m\u001b[1;31m:\u001b[0m unexpected indent\n"
     ]
    }
   ],
   "source": [
    "# dic_aminoacidos = {\n",
    "    \"Trp\": [1550, 1.34, ],\n",
    "    \"Cys\": [1905, 1.76, ],\n",
    "    \"His\": [1695, 2.26, ],\n",
    "    \"Arg\": [3093, 5.20, ],\n",
    "    \"Met\": [1102, 2.32, ],\n",
    "    \"Tyr\": [1525, 3.25, ],\n",
    "    \"Gln\": [1830, 3.96, ],\n",
    "    \"Phe\": [1616, 4.12, ],\n",
    "    \"Asp\": [1691, 5.12, ],\n",
    "    \"Pro\": [1598, 5.00, ],\n",
    "    \"Ala\": [2018, 7.34, ],\n",
    "    \"Asn\": [1103, 4.57, ],\n",
    "    \"Lys\": [1366, 5.81, ],\n",
    "    \"Glu\": [1471, 6.22, ],\n",
    "    \"Gly\": [1376, 6.89, ],\n",
    "    \"Thr\": [1147, 5.85, ],\n",
    "    \"Val\": [1225, 6.48, ],\n",
    "    \"Ile\": [1033, 5.76, ],\n",
    "    \"Ser\": [1206, 7.38, ],\n",
    "    \"Leu\": [1127, 9.36, ],   \n",
    "}\n",
    "# imprime el diccionario creado\n",
    "(\"este es el diccionario dic_aminoacidos: \")\n",
    "(dic_aminoacidos) \n",
    " # se extrae los keys y se los añade a una lista de nombre aminoacidos\n",
    "aminoacidos = list(dic_aminoacidos.keys()) \n",
    "(\"esta es la lista aminoacidos: \", aminoacidos) # imprime la lista aminoacidos\n",
    "propiedades = list(dic_aminoacidos.values()) # se extrae los values y se los añade a una lista de nombre propiedades\n",
    "(\"esta es la lista propiedades: \", propiedades) # imprime la lista propiedades\n",
    "\n",
    "print(\"esta es la lista aminoacidos: \", aminoacidos)\n",
    "esta es la lista aminoacidos:  ['Trp', 'Cys', 'His', 'Arg', 'Met', 'Tyr', 'Gln', 'Phe', 'Asp', 'Pro', 'Ala', 'Asn', 'Lys', 'Glu', 'Gly', 'Thr', 'Val', 'Ile', 'Ser', 'Leu']\n",
    "    \n",
    "print(\"esta es la lista propiedades: \", propiedades)\n",
    "esta es la lista propiedades:  [[1550, 1.34], [1905, 1.76], [1695, 2.26], [3093, 5.2], [1102, 2.32], [1525, 3.25], [1830, 3.96], [1616, 4.12], [1691, 5.12], [1598, 5.0], [2018, 7.34], [1103, 4.57], [1366, 5.81], [1471, 6.22], [1376, 6.89], [1147, 5.85], [1225, 6.48], [1033, 5.76], [1206, 7.38], [1127, 9.36]]\n",
    "    "
   ]
  }
 ],
 "metadata": {
  "kernelspec": {
   "display_name": "Python 3",
   "language": "python",
   "name": "python3"
  },
  "language_info": {
   "codemirror_mode": {
    "name": "ipython",
    "version": 3
   },
   "file_extension": ".py",
   "mimetype": "text/x-python",
   "name": "python",
   "nbconvert_exporter": "python",
   "pygments_lexer": "ipython3",
   "version": "3.8.8"
  },
  "latex_envs": {
   "LaTeX_envs_menu_present": true,
   "autoclose": false,
   "autocomplete": true,
   "bibliofile": "biblio.bib",
   "cite_by": "apalike",
   "current_citInitial": 1,
   "eqLabelWithNumbers": true,
   "eqNumInitial": 1,
   "hotkeys": {
    "equation": "Ctrl-E",
    "itemize": "Ctrl-I"
   },
   "labels_anchors": false,
   "latex_user_defs": false,
   "report_style_numbering": false,
   "user_envs_cfg": false
  },
  "toc": {
   "base_numbering": 1,
   "nav_menu": {},
   "number_sections": true,
   "sideBar": false,
   "skip_h1_title": false,
   "title_cell": "Table of Contents",
   "title_sidebar": "Contents",
   "toc_cell": false,
   "toc_position": {
    "height": "1152.67px",
    "left": "41px",
    "top": "110px",
    "width": "253.458px"
   },
   "toc_section_display": true,
   "toc_window_display": false
  },
  "varInspector": {
   "cols": {
    "lenName": 16,
    "lenType": 16,
    "lenVar": 40
   },
   "kernels_config": {
    "python": {
     "delete_cmd_postfix": "",
     "delete_cmd_prefix": "del ",
     "library": "var_list.py",
     "varRefreshCmd": "print(var_dic_list())"
    },
    "r": {
     "delete_cmd_postfix": ") ",
     "delete_cmd_prefix": "rm(",
     "library": "var_list.r",
     "varRefreshCmd": "cat(var_dic_list()) "
    }
   },
   "types_to_exclude": [
    "module",
    "function",
    "builtin_function_or_method",
    "instance",
    "_Feature"
   ],
   "window_display": false
  }
 },
 "nbformat": 4,
 "nbformat_minor": 4
}
